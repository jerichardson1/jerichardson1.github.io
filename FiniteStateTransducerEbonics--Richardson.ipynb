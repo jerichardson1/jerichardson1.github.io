{
 "cells": [
  {
   "cell_type": "markdown",
   "metadata": {},
   "source": [
    "# Ebonics Finite State Transducer by Jordan Richardson\n",
    "\n",
    "    I have decided to utilize a finite state tranducer in order to parse SAE (standard American English) strings that can return a phonologically sound ebonics utterance, accurately. Initially I posited a finite state transducer that could parse ebonic strings and then output an SAE spelling, however, in thinking about how this would go, especially in instance wherein final consonant clusters were reduced--ambiguity of words tended to arise. So, in accordance with some phonological mandates of AAVE (African American Vernacular English), I have developed this project."
   ]
  },
  {
   "cell_type": "markdown",
   "metadata": {},
   "source": [
    "# Reasoning behind making this Ebonics Finite State Transducer:\n",
    "If my dictionary had the capacity to incorporate every single phonetic feature of Ebonics--and auditory means could be incorporated in addition to this FSA--then, this project would be good for taking a phonological input from a speaker of SAE and outputting some ebonics text (text-to-speech purposes/SIRI/ALEXA etc). As ebonics has historically been subject of ridicule--this finite state transducer could potentially be useful for classroom settings, or for people who do not understand, or choose to not understand, ebonics. This could also be purposeful in bridging gaps between different speech communities. "
   ]
  },
  {
   "cell_type": "markdown",
   "metadata": {},
   "source": [
    "# How To:\n",
    "In order to utilize this Finite State Transducer, to see if and how a SAE string translates in Ebonics, utilize one of the phonological description names below, and put it in the tranducer function. After that, type in (IPA SAE spelling) the string. The bottom of this notebook also details already parsed strings! That's it! Have fun translating!!"
   ]
  },
  {
   "cell_type": "markdown",
   "metadata": {},
   "source": [
    "# Phonological Descriptions:\n",
    "    *IRCR = Initial /r/ Cluster Reduction\n",
    "    *BSC = Backing in /str/ Clusters\n",
    "    *MFSSC = Metathesis of final /s/ + stop clusters\n",
    "    *DLL = Deletion of /l/ before labial\n",
    "    *FCCR = Final Consonant Cluster Reduction\n",
    "    *IJCR = Initial /j/ cluster rhotacization\n"
   ]
  },
  {
   "cell_type": "markdown",
   "metadata": {},
   "source": [
    "# The Phonological Changes this FST Parses:\n",
    "Initial /r/ Cluster Reduction\n",
    "Backing in /str/ Clusters\n",
    "Metathesis of final /s/ stop clusters\n",
    "Deletion of /l/ before labial\n",
    "Final Consonant Cluster Reduction\n",
    "Initial /j/ cluster rhotacization\n",
    "\n",
    "   \n",
    "  \n",
    "| Phonological Change:                                                 | Example Input | Example Output         |\n",
    "| -------------                                           |:-------------:| -----:                  |\n",
    "| backing in /str/ clusters                              | strit/strɔŋ   | strit/skrɔŋ            |\n",
    "|Initial /r/ Cluster Reduction                    |fɜrst/θroʊ    |  fɜst/θoʊ\n",
    "|Metathesis of final /s/ stop clusters           | æsk/tæsk       |  æks/tæks\n",
    "|Deletion of /l/ before labial           |         hɛlp           |hɛp \n",
    "|Final Consonant Cluster Reduction   | tɛst/hænd|      tɛs/hæn\n",
    "|Initial /j/ cluster rhotacization | kjut  |     krut\n",
    "\n",
    "\n"
   ]
  },
  {
   "cell_type": "markdown",
   "metadata": {},
   "source": [
    "# Consonants and Vowels Inventory\n",
    "    ipa consonants = b, d,f,g,h,j,k,l,m,n,ŋ,p,r,ɾ,ʃ,t,t͡ʃ,θ,v,w,z,ʒ,d͡ʒ,ð\n",
    "    ipa vowels = i,y,u,ʊ,ɘ,ɛ,æ,a,ɑ,ɔ,ʌ,o,ə,I,ɒ,eI,aI,au,ju,oʊ,ɔI"
   ]
  },
  {
   "cell_type": "code",
   "execution_count": 145,
   "metadata": {},
   "outputs": [],
   "source": [
    "#IRCR = Initial /r/ Cluster Reduction--this function takes the first 'r' presented and deletes it\n",
    "IRCR = { \n",
    "    (0,'b'):(0,'b'),\n",
    "    (0,'r'):(0,''),\n",
    "    (0,'ɾ'):(0,''),\n",
    "    (0,'d'):(0,'d'),\n",
    "     (0,'e'):(0,'e'),\n",
    "    (0,'f'):(0,'f'),\n",
    "     (0,'g'):(0,'g'),\n",
    "    (0,'h'):(0,'h'),\n",
    "     (0,'j'):(0,'j'),\n",
    "    (0,'k'):(0,'t'),\n",
    "     (0,'l'):(0,'l'),\n",
    "    (0,'m'):(0,'m'),\n",
    "    (0,'n'):(0,'n'),\n",
    "    (0,'ŋ'):(0,'ŋ'),\n",
    "     (0,'p'):(0,'p'),\n",
    "    (0,'q'):(0,'q'),\n",
    "     (0,'s'):(0,'s'),\n",
    "    (0,'t'):(0,'t'),\n",
    "    (0,'t͡ʃ'):(0,'t͡ʃ'),\n",
    "    (0,'θ'):(0,'θ'),\n",
    "    (0,'v'):(0,'v'),\n",
    "    (0,'d͡ʒ'):(0,'d͡ʒ'),\n",
    "    (0,'ð'):(0,'ð'),\n",
    "     (0,'w'):(0,'w'),\n",
    "    (0,'x'):(0,'x'),\n",
    "     (0,'y'):(0,'y'),\n",
    "    (0,'z'):(0,'z'),\n",
    "    (0,'i'):(0,'i'),\n",
    "    (0,'u'):(0,'u'),\n",
    "    (0,'ʊ'):(0,'ʊ'),\n",
    "    (0,'ɘ'):(0,'ɘ'),\n",
    "    (0,'ɛ'):(0,'ɛ'),\n",
    "    (0,'ɜ'):(0,'ɜ'),\n",
    "    (0,'æ'):(0,'æ'),\n",
    "    (0,'a'):(0,'a'),\n",
    "    (0,'ɑ'):(0,'ɑ'),\n",
    "    (0,'ɔ'):(0,'ɔ'),\n",
    "    (0,'ʌ'):(0,'ʌ'),\n",
    "    (0,'o'):(0,'o'),\n",
    "    (0,'ə'):(0,'ə'),\n",
    "    (0,'I'):(0,'I'),\n",
    "    (0,'ɒ'):(0,'ɒ'),\n",
    "    (0,'eI'):(0,'eI'),\n",
    "    (0,'aI'):(0,'aI'),\n",
    "    (0,'au'):(0,'au'),\n",
    "    (0,'ju'):(0,'ju'),\n",
    "    (0,'oʊ'):(0,'oʊ'),\n",
    "    (0,'ɔI'):(0,'ɔI'),\n",
    "    (0,''):(True,'')\n",
    "\n",
    "    \n",
    "}\n",
    "\n",
    "#Try these:\n",
    "#first\tfɜrst \n",
    "#throw\tθroʊ \n",
    "#professor\tprəfɛsər"
   ]
  },
  {
   "cell_type": "code",
   "execution_count": 161,
   "metadata": {},
   "outputs": [],
   "source": [
    "#Backing in /str/ Clusters--this function takes /str/ cluster--deletes the 'r' and replaces it with a 'k'\n",
    "BSC = { \n",
    "    (0,'a'):(0,'a'),\n",
    "    (0,'b'):(0,'b'),\n",
    "    (0,'b'):(1,'b'),\n",
    "    (1,'b'):(2,''),\n",
    "     (0,'c'):(0,'c'),\n",
    "    (0,'r'):(0,''),\n",
    "    (0,'d'):(0,'d'),\n",
    "     (0,'e'):(0,'e'),\n",
    "    (0,'f'):(0,'f'),\n",
    "     (0,'g'):(0,'g'),\n",
    "    (0,'h'):(0,'h'),\n",
    "    (0,'i'):(0,'i'),\n",
    "     (0,'j'):(0,'j'),\n",
    "    (0,'k'):(0,'k'),\n",
    "     (0,'l'):(0,'l'),\n",
    "    (0,'m'):(0,'m'),\n",
    "    (0,'n'):(0,'n'),\n",
    "    (0,'o'):(0,'o'),\n",
    "     (0,'p'):(0,'p'),\n",
    "    (0,'q'):(0,'q'),\n",
    "    (0,'s'):(1,'s'),\n",
    "    (1,'s'):(1,'s'),\n",
    "    (1,'t'):(1,'k'),\n",
    "    (0,'t'):(0,'t'),\n",
    "    (1,'r'):(0,'r'),\n",
    "     (0,'u'):(0,'u'),\n",
    "    (0,'v'):(0,'v'),\n",
    "     (0,'w'):(0,'w'),\n",
    "    (0,'x'):(0,'x'),\n",
    "     (0,'y'):(0,'y'),\n",
    "    (0,'z'):(0,'z'),\n",
    "    (0,'d͡ʒ'):(0,'d͡ʒ'),\n",
    "    (0,'ð'):(0,'ð'),\n",
    "    (0,'t͡ʃ'):(0,'t͡ʃ'),\n",
    "    (0,'θ'):(0,'θ'),\n",
    "    (0,'ŋ'):(0,'ŋ'),\n",
    "    (0,'ɾ'):(0,'ɾ'),\n",
    "    (0,'i'):(0,'i'),\n",
    "    (0,'u'):(0,'u'),\n",
    "    (0,'ʊ'):(0,'ʊ'),\n",
    "    (0,'ɘ'):(0,'ɘ'),\n",
    "    (0,'ɛ'):(0,'ɛ'),\n",
    "    (0,'æ'):(0,'æ'),\n",
    "    (0,'a'):(0,'a'),\n",
    "    (0,'ɑ'):(0,'ɑ'),\n",
    "    (0,'ɔ'):(0,'ɔ'),\n",
    "    (0,'ʌ'):(0,'ʌ'),\n",
    "    (0,'o'):(0,'o'),\n",
    "    (0,'ə'):(0,'ə'),\n",
    "    (0,'I'):(0,'I'),\n",
    "    (0,'ɒ'):(0,'ɒ'),\n",
    "    (0,'eI'):(0,'eI'),\n",
    "    (0,'aI'):(0,'aI'),\n",
    "    (0,'au'):(0,'au'),\n",
    "    (0,'ju'):(0,'ju'),\n",
    "    (0,'oʊ'):(0,'oʊ'),\n",
    "    (0,'ɔI'):(0,'ɔI'),\n",
    "    (0,''):(True,''),\n",
    "    (1,''):(True,'')\n",
    "\n",
    "    \n",
    "}\n",
    "#Test these (or any other str word):\n",
    "#string\tstrɪŋ \n",
    "#strong\tstrɔŋ \n",
    "#street\tstrit \n",
    "##strength\tstrɛŋθ \n",
    "#strain\tstreɪn "
   ]
  },
  {
   "cell_type": "code",
   "execution_count": 115,
   "metadata": {},
   "outputs": [],
   "source": [
    "#This function conducts a metathesis of final /s/ + stop clusters--so, it drops the first /s/ and then relocates it to the end\n",
    "MFSSC = { \n",
    "    (0,'a'):(0,'a'),\n",
    "    (0,'b'):(0,'b'),\n",
    "     (0,'c'):(0,'c'),\n",
    "    (0,'r'):(0,'r'),\n",
    "    (0,'d'):(0,'d'),\n",
    "     (0,'e'):(0,'e'),\n",
    "    (0,'f'):(0,'f'),\n",
    "     (0,'g'):(0,'g'),\n",
    "    (0,'h'):(0,'h'),\n",
    "    (0,'i'):(0,'i'),\n",
    "     (0,'j'):(0,'j'),\n",
    "    (0,'k'):(0,'k'),\n",
    "     (0,'l'):(0,'l'),\n",
    "    (0,'m'):(0,'m'),\n",
    "    (0,'n'):(0,'n'),\n",
    "    (0,'o'):(0,'o'),\n",
    "     (0,'p'):(0,'p'),\n",
    "    (0,'q'):(0,'q'),\n",
    "     (0,'s'):(0,''),\n",
    "    (0,''):(1,'s'),\n",
    "    (0,'t'):(0,'t'),\n",
    "     (0,'u'):(0,'u'),\n",
    "    (0,'v'):(0,'v'),\n",
    "     (0,'w'):(0,'w'),\n",
    "    (0,'x'):(0,'x'),\n",
    "     (0,'y'):(0,'y'),\n",
    "    (0,'z'):(0,'z'),\n",
    "    (0,'d͡ʒ'):(0,'d͡ʒ'),\n",
    "    (0,'ð'):(0,'ð'),\n",
    "    (0,'t͡ʃ'):(0,'t͡ʃ'),\n",
    "    (0,'θ'):(0,'θ'),\n",
    "    (0,'ŋ'):(0,'ŋ'),\n",
    "    (0,'ɾ'):(0,'ɾ'),\n",
    "    (0,'i'):(0,'i'),\n",
    "    (0,'u'):(0,'u'),\n",
    "    (0,'ʊ'):(0,'ʊ'),\n",
    "    (0,'ɘ'):(0,'ɘ'),\n",
    "    (0,'ɛ'):(0,'ɛ'),\n",
    "    (0,'æ'):(0,'æ'),\n",
    "    (0,'a'):(0,'a'),\n",
    "    (0,'ɑ'):(0,'ɑ'),\n",
    "    (0,'ɔ'):(0,'ɔ'),\n",
    "    (0,'ʌ'):(0,'ʌ'),\n",
    "    (0,'o'):(0,'o'),\n",
    "    (0,'ə'):(0,'ə'),\n",
    "    (0,'I'):(0,'I'),\n",
    "    (0,'ɒ'):(0,'ɒ'),\n",
    "    (0,'eI'):(0,'eI'),\n",
    "    (0,'aI'):(0,'aI'),\n",
    "    (0,'au'):(0,'au'),\n",
    "    (0,'ju'):(0,'ju'),\n",
    "    (0,'oʊ'):(0,'oʊ'),\n",
    "    (0,'ɔI'):(0,'ɔI'),\n",
    "    (1,''):(True,'')\n",
    "    \n",
    "}\n",
    "\n",
    "## for testing & to see the transformation from SAE to AAVE try out--> type out the SAE IPA for the following:\n",
    "#ask\tæsk \n",
    "#task\ttæsk \n",
    "#grasp\tgræsp"
   ]
  },
  {
   "cell_type": "code",
   "execution_count": 165,
   "metadata": {},
   "outputs": [],
   "source": [
    "#This function deletes the /l/ consonant before labials--after a vowel and before a labial consonant\n",
    "DLL = { (0,'a'):(0,'a'),\n",
    "    (0,'b'):(0,'b'),\n",
    "     (0,'c'):(0,'c'),\n",
    "    (0,'r'):(0,'r'),\n",
    "    (0,'d'):(0,'d'),\n",
    "     (0,'e'):(0,'e'),\n",
    "    (0,'f'):(0,'f'),\n",
    "     (0,'g'):(0,'g'),\n",
    "    (0,'h'):(0,'h'),\n",
    "    (0,'i'):(0,'i'),\n",
    "     (0,'j'):(0,'j'),\n",
    "    (0,'k'):(0,'k'),\n",
    "     (0,'l'):(1,''),\n",
    "       (1,'p'):(0,'p'),\n",
    "       (1,'b'):(0,'b'),\n",
    "       (1,'m'):(0,'m'),\n",
    "       (1,'f'):(0,'f'),\n",
    "       (1,'v'):(0,'v'),\n",
    "       (1,'w'):(0,'w'),\n",
    "    (0,'m'):(0,'m'),\n",
    "    (0,'n'):(0,'n'),\n",
    "    (0,'o'):(0,'o'),\n",
    "     (0,'p'):(0,'p'),\n",
    "    (0,'q'):(0,'q'),\n",
    "     (0,'s'):(0,'s'),\n",
    "    (0,'t'):(0,'t'),\n",
    "     (0,'u'):(0,'u'),\n",
    "    (0,'v'):(0,'v'),\n",
    "     (0,'w'):(0,'w'),\n",
    "    (0,'x'):(0,'x'),\n",
    "     (0,'y'):(0,'y'),\n",
    "    (0,'z'):(0,'z'),\n",
    "       (0,'t͡ʃ'):(0,'t͡ʃ'),\n",
    "    (0,'θ'):(0,'θ'),\n",
    "    (0,'v'):(0,'v'),\n",
    "    (0,'d͡ʒ'):(0,'d͡ʒ'),\n",
    "    (0,'ð'):(0,'ð'),\n",
    "     (0,'w'):(0,'w'),\n",
    "    (0,'x'):(0,'x'),\n",
    "     (0,'y'):(0,'y'),\n",
    "    (0,'z'):(0,'z'),\n",
    "    (0,'i'):(0,'i'),\n",
    "    (0,'u'):(0,'u'),\n",
    "    (0,'ʊ'):(0,'ʊ'),\n",
    "    (0,'ɘ'):(0,'ɘ'),\n",
    "    (0,'ɛ'):(0,'ɛ'),\n",
    "    (0,'æ'):(0,'æ'),\n",
    "    (0,'a'):(0,'a'),\n",
    "    (0,'ɑ'):(0,'ɑ'),\n",
    "    (0,'ɔ'):(0,'ɔ'),\n",
    "    (0,'ʌ'):(0,'ʌ'),\n",
    "    (0,'o'):(0,'o'),\n",
    "    (0,'ə'):(0,'ə'),\n",
    "    (0,'I'):(0,'I'),\n",
    "    (0,'ɒ'):(0,'ɒ'),\n",
    "    (0,'eI'):(0,'eI'),\n",
    "    (0,'aI'):(0,'aI'),\n",
    "    (0,'au'):(0,'au'),\n",
    "    (0,'ju'):(0,'ju'),\n",
    "    (0,'oʊ'):(0,'oʊ'),\n",
    "    (0,'ɔI'):(0,'ɔI'),\n",
    "    (0,''):(True,''),\n",
    "       (1,''):(True,''),\n",
    "       (0,''):(True,'')\n",
    "\n",
    "    \n",
    "}\n",
    "\n",
    "#Try these:\n",
    "#help\thɛlp \n",
    "#rudolph\tˈrudɔlf \n",
    "#dolphin\tˈdɑlfən\n",
    "\n"
   ]
  },
  {
   "cell_type": "code",
   "execution_count": 37,
   "metadata": {},
   "outputs": [],
   "source": [
    "FCCR = {(0,'a'):(1,'a'),\n",
    "        (0,'b'):(1,'b'),\n",
    "        (1,'b'):(2,'b'),\n",
    "        (2,'b'):(2,'b'),\n",
    "        (2,'b'):(3,''),\n",
    "        (0,'r'):(1,'r'),\n",
    "        (1,'r'):(2,'r'),\n",
    "        (2,'r'):(3,''),\n",
    "        (2,'r'):(2,'r'),\n",
    "        (0,'d'):(1,'d'),\n",
    "        (2,'d'):(2,'d'),\n",
    "        (2,'d'):(3,''),\n",
    "        (0,'e'):(1,'e'),\n",
    "        (0,'f'):(1,'f'),\n",
    "        (1,'f'):(2,'f'),\n",
    "        (2,'f'):(2,'f'),\n",
    "        (2,'f'):(3,''),\n",
    "        (0,'g'):(1,'g'),\n",
    "        (1,'g'):(2,'g'),\n",
    "        (2,'g'):(2,'g'),\n",
    "        (2,'g'):(3,''),\n",
    "        (0,'h'):(1,'h'),\n",
    "        (1,'h'):(2,'h'),\n",
    "        (2,'h'):(2,'h'),\n",
    "        (2,'h'):(3,''),\n",
    "        (0,'i'):(1,'i'),\n",
    "        (0,'j'):(1,'j'),\n",
    "        (0,'k'):(1,'k'),\n",
    "        (1,'k'):(2,'k'),\n",
    "        (2,'k'):(3,''),\n",
    "        (0,'l'):(1,'l'),\n",
    "        (1,'l'):(2,'l'),\n",
    "        (2,'l'):(2,'l'),\n",
    "        (2,'l'):(3,''),\n",
    "       (0,'p'):(1,'p'),\n",
    "        (1,'p'):(2,'p'),\n",
    "        (2,'p'):(2,'p'),\n",
    "        (2,'p'):(3,''),\n",
    "    (0,'m'):(1,'m'),\n",
    "           (1,'m'):(2,'m'),\n",
    "        (2,'m'):(2,'m'),\n",
    "        (2,'m'):(3,''),\n",
    "    (0,'n'):(1,'n'),\n",
    "           (1,'n'):(2,'n'),\n",
    "        (2,'n'):(2,'n'),\n",
    "        (2,'n'):(3,''),\n",
    "        (0,'o'):(1,'o'),\n",
    "        (0,'p'):(1,'p'),\n",
    "        (1,'p'):(2,'p'),\n",
    "        (2,'p'):(2,'p'),\n",
    "        (2,'p'):(3,''),\n",
    "        (0,'q'):(1,'q'),\n",
    "        (1,'q'):(2,'q'),\n",
    "        (2,'q'):(2,'q'),\n",
    "        (2,'q'):(3,''),\n",
    "        (0,'s'):(1,'s'),\n",
    "        (1,'s'):(2,'s'),\n",
    "        (2,'s'):(3,''),\n",
    "        (3,'s'):(3,'s'),\n",
    "        (0,'t'):(1,'t'),\n",
    "        (2,'t'):(2,'t'),\n",
    "        (2,'t'):(3,''),\n",
    "     (0,'u'):(0,'u'),\n",
    "    (0,'v'):(1,'v'),\n",
    "           (1,'v'):(2,'v'),\n",
    "        (2,'v'):(2,'v'),\n",
    "        (2,'v'):(3,''),\n",
    "     (0,'w'):(1,'w'),\n",
    "           (1,'w'):(2,'w'),\n",
    "        (2,'w'):(2,'w'),\n",
    "        (2,'w'):(3,''),\n",
    "    (0,'x'):(1,'x'),\n",
    "           (1,'x'):(2,'x'),\n",
    "        (2,'x'):(2,'x'),\n",
    "        (2,'x'):(3,''),\n",
    "     (0,'y'):(1,'y'),\n",
    "           (1,'y'):(2,'y'),\n",
    "        (2,'y'):(2,'y'),\n",
    "        (2,'y'):(3,''),\n",
    "    (0,'z'):(1,'z'),\n",
    "           (1,'z'):(2,'z'),\n",
    "        (2,'z'):(2,'z'),\n",
    "        (2,'z'):(3,''),\n",
    "        (0,'t͡ʃ'):(1,'t͡ʃ'),\n",
    "        (1,'t͡ʃ'):(2,'t͡ʃ'),\n",
    "        (2,'t͡ʃ'):(2,'t͡ʃ'),\n",
    "        (2,'t͡ʃ'):(3,''),\n",
    "    (0,'θ'):(1,'θ'),\n",
    "         (1,'θ'):(2,'θ'),\n",
    "        (2,'θ'):(2,'θ'),\n",
    "        (2,'θ'):(3,''),\n",
    "    (0,'d͡ʒ'):(1,'d͡ʒ'),\n",
    "        (1,'d͡ʒ'):(2,'d͡ʒ'),  \n",
    "        (2,'d͡ʒ'):(2,'d͡ʒ'),\n",
    "        (2,'d͡ʒ'):(3,''),\n",
    "    (1,'ð'):(1,'ð'),\n",
    "        (1,'ð'):(2,'ð'),\n",
    "        (2,'ð'):(2,'ð'),\n",
    "        (2,'ð'):(3,''),\n",
    "    (1,'i'):(1,'i'),\n",
    "    (1,'u'):(1,'u'),\n",
    "    (1,'ʊ'):(1,'ʊ'),\n",
    "    (1,'ɘ'):(1,'ɘ'),\n",
    "    (1,'ɛ'):(1,'ɛ'),\n",
    "    (1,'æ'):(1,'æ'),\n",
    "    (1,'a'):(1,'a'),\n",
    "    (1,'ɑ'):(1,'ɑ'),\n",
    "    (1,'ɔ'):(1,'ɔ'),\n",
    "    (1,'ʌ'):(1,'ʌ'),\n",
    "    (1,'o'):(1,'o'),\n",
    "    (1,'ə'):(1,'ə'),\n",
    "    (1,'I'):(1,'I'),\n",
    "    (1,'ɒ'):(1,'ɒ'),\n",
    "    (1,'eI'):(1,'eI'),\n",
    "    (1,'aI'):(1,'aI'),\n",
    "    (1,'au'):(1,'au'),\n",
    "    (1,'ju'):(1,'ju'),\n",
    "    (1,'oʊ'):(1,'oʊ'),\n",
    "    (1,'ɔI'):(1,'ɔI'),\n",
    "    (0,''):(True,''),\n",
    "       (1,''):(True,''),\n",
    "       (2,''):(True,''),\n",
    "        (3,''):(True,'')\n",
    "       }\n",
    "\n",
    "## for testing & to see the transformation from SAE to AAVE try out--> type out the SAE IPA for the following:\n",
    "\n",
    "#test\ttɛst \n",
    "#hand\thænd \n",
    "#hands\thændz \n",
    "#cast\tkæst\n",
    "\n"
   ]
  },
  {
   "cell_type": "code",
   "execution_count": 174,
   "metadata": {},
   "outputs": [],
   "source": [
    "#This function gets rid the phonological /j/ consonant and rhotacizes it\n",
    "\n",
    "IJCR = { \n",
    "    (0,'a'):(0,'a'),\n",
    "    (0,'b'):(0,'b'),\n",
    "     (0,'c'):(0,'c'),\n",
    "    (0,'r'):(0,'r'),\n",
    "    (0,'d'):(0,'d'),\n",
    "     (0,'e'):(0,'e'),\n",
    "    (0,'f'):(0,'f'),\n",
    "     (0,'g'):(0,'g'),\n",
    "    (0,'h'):(0,'h'),\n",
    "    (0,'i'):(0,'i'),\n",
    "     (0,'j'):(0,'r'),\n",
    "    (0,'r'):(0,'r'),\n",
    "    (0,'k'):(0,'k'),\n",
    "     (0,'l'):(0,'l'),\n",
    "    (0,'m'):(0,'m'),\n",
    "    (0,'n'):(0,'n'),\n",
    "    (0,'o'):(0,'o'),\n",
    "     (0,'p'):(0,'p'),\n",
    "    (0,'q'):(0,'q'),\n",
    "     (0,'s'):(0,'s'),\n",
    "    (0,'t'):(0,'t'),\n",
    "     (0,'u'):(0,'u'),\n",
    "    (0,'v'):(0,'v'),\n",
    "     (0,'w'):(0,'w'),\n",
    "    (0,'x'):(0,'x'),\n",
    "     (0,'y'):(0,'y'),\n",
    "    (0,'z'):(0,'z'),\n",
    "     (0,'d͡ʒ'):(0,'d͡ʒ'),\n",
    "    (0,'ð'):(0,'ð'),\n",
    "    (0,'t͡ʃ'):(0,'t͡ʃ'),\n",
    "    (0,'θ'):(0,'θ'),\n",
    "    (0,'ŋ'):(0,'ŋ'),\n",
    "    (0,'ɾ'):(0,'ɾ'),\n",
    "    (0,'i'):(0,'i'),\n",
    "    (0,'u'):(0,'u'),\n",
    "    (0,'ʊ'):(0,'ʊ'),\n",
    "    (0,'ɘ'):(0,'ɘ'),\n",
    "    (0,'ɛ'):(0,'ɛ'),\n",
    "    (0,'æ'):(0,'æ'),\n",
    "    (0,'a'):(0,'a'),\n",
    "    (0,'ɑ'):(0,'ɑ'),\n",
    "    (0,'ɔ'):(0,'ɔ'),\n",
    "    (0,'ʌ'):(0,'ʌ'),\n",
    "    (0,'o'):(0,'o'),\n",
    "    (0,'ə'):(0,'ə'),\n",
    "    (0,'I'):(0,'I'),\n",
    "    (0,'ɒ'):(0,'ɒ'),\n",
    "    (0,'eI'):(0,'eI'),\n",
    "    (0,'aI'):(0,'aI'),\n",
    "    (0,'au'):(0,'au'),\n",
    "    (0,'oʊ'):(0,'oʊ'),\n",
    "    (0,'ɔI'):(0,'ɔI'),\n",
    "    (1,''):(True,''),\n",
    "    (0,''):(True,'')\n",
    "\n",
    "    \n",
    "}\n",
    "\n",
    "##Try these:\n",
    "#cute\tkjut \n",
    "#beauty\tˈbjuti \n",
    "#computer\tkəmpjutər\n",
    "#music\tmjuzɪk \n"
   ]
  },
  {
   "cell_type": "markdown",
   "metadata": {},
   "source": [
    "# Transducer Function from Homework #6 "
   ]
  },
  {
   "cell_type": "code",
   "execution_count": 3,
   "metadata": {},
   "outputs": [],
   "source": [
    "def transduce(f,response):\n",
    "    #Parse string s with FST f and return its output\n",
    "    curr_state = 0\n",
    "    output = '' \n",
    "    #output define as a string blank when we start\n",
    "    for a in response: \n",
    "        #for every item in our string if the curent state is in our grammar were gonna find it \n",
    "        if (curr_state,a) in f: \n",
    "            result = f[(curr_state,a)]\n",
    "            print(str(curr_state)+'->'+a+':'+result[1]+'->'+str(result[0]))\n",
    "            output = output + result[1]\n",
    "            #whatever the result was return item 1 in the tuple \n",
    "            curr_state = result[0]\n",
    "        else:\n",
    "            print(str(curr_state)+'->'+a)\n",
    "            return False\n",
    "    if f[(curr_state,'')][0] == True:\n",
    "        print(str(curr_state)+\"->'':\"+f[(curr_state,'')][1])\n",
    "        return output + f[(curr_state,'')][1]\n",
    "    else:\n",
    "        return False\n",
    "    \n",
    "    \n"
   ]
  },
  {
   "cell_type": "markdown",
   "metadata": {},
   "source": [
    "#Below I have utilized the tranducer function in order to parse string based on different phonological rules of ebonics. \n",
    "# Recall: Phonological Descriptions\n",
    "    *IRCR = Initial /r/ Cluster Reduction\n",
    "    *BSC = Backing in /str/ Clusters\n",
    "    *MFSSC = Metathesis of final /s/ + stop clusters\n",
    "    *DLL = Deletion of /l/ before labial\n",
    "    *FCCR = Final Consonant Cluster Reduction\n",
    "    *IJCR = Initial /j/ cluster rhotacization\n"
   ]
  },
  {
   "cell_type": "code",
   "execution_count": 120,
   "metadata": {},
   "outputs": [
    {
     "name": "stdout",
     "output_type": "stream",
     "text": [
      "0->g:g->0\n",
      "0->r:r->0\n",
      "0->æ:æ->0\n",
      "0->s:->0\n",
      "0->p:p->0\n",
      "0->'':s\n"
     ]
    },
    {
     "data": {
      "text/plain": [
       "'græps'"
      ]
     },
     "execution_count": 120,
     "metadata": {},
     "output_type": "execute_result"
    }
   ],
   "source": [
    "transduce(MFSSC,'græsp')"
   ]
  },
  {
   "cell_type": "code",
   "execution_count": 121,
   "metadata": {},
   "outputs": [
    {
     "name": "stdout",
     "output_type": "stream",
     "text": [
      "0->æ:æ->0\n",
      "0->s:->0\n",
      "0->k:k->0\n",
      "0->'':s\n"
     ]
    },
    {
     "data": {
      "text/plain": [
       "'æks'"
      ]
     },
     "execution_count": 121,
     "metadata": {},
     "output_type": "execute_result"
    }
   ],
   "source": [
    "transduce(MFSSC,'æsk')"
   ]
  },
  {
   "cell_type": "code",
   "execution_count": 122,
   "metadata": {},
   "outputs": [
    {
     "name": "stdout",
     "output_type": "stream",
     "text": [
      "0->t:t->0\n",
      "0->æ:æ->0\n",
      "0->s:->0\n",
      "0->k:k->0\n",
      "0->s:->0\n",
      "0->'':s\n"
     ]
    },
    {
     "data": {
      "text/plain": [
       "'tæks'"
      ]
     },
     "execution_count": 122,
     "metadata": {},
     "output_type": "execute_result"
    }
   ],
   "source": [
    "transduce(MFSSC,'tæsks')"
   ]
  },
  {
   "cell_type": "code",
   "execution_count": 123,
   "metadata": {},
   "outputs": [
    {
     "name": "stdout",
     "output_type": "stream",
     "text": [
      "0->m:m->0\n",
      "0->æ:æ->0\n",
      "0->s:->0\n",
      "0->k:k->0\n",
      "0->'':s\n"
     ]
    },
    {
     "data": {
      "text/plain": [
       "'mæks'"
      ]
     },
     "execution_count": 123,
     "metadata": {},
     "output_type": "execute_result"
    }
   ],
   "source": [
    "transduce(MFSSC,'mæsk')"
   ]
  },
  {
   "cell_type": "code",
   "execution_count": 124,
   "metadata": {},
   "outputs": [
    {
     "name": "stdout",
     "output_type": "stream",
     "text": [
      "0->t:t->0\n",
      "0->æ:æ->0\n",
      "0->s:->0\n",
      "0->k:k->0\n",
      "0->'':s\n"
     ]
    },
    {
     "data": {
      "text/plain": [
       "'tæks'"
      ]
     },
     "execution_count": 124,
     "metadata": {},
     "output_type": "execute_result"
    }
   ],
   "source": [
    "transduce(MFSSC,'tæsk')"
   ]
  },
  {
   "cell_type": "code",
   "execution_count": 129,
   "metadata": {},
   "outputs": [
    {
     "name": "stdout",
     "output_type": "stream",
     "text": [
      "0->s:s->1\n",
      "1->t:k->1\n",
      "1->r:r->0\n",
      "0->I:I->0\n",
      "0->ŋ:ŋ->0\n",
      "0->'':\n"
     ]
    },
    {
     "data": {
      "text/plain": [
       "'skrIŋ'"
      ]
     },
     "execution_count": 129,
     "metadata": {},
     "output_type": "execute_result"
    }
   ],
   "source": [
    "transduce(BSC,\"strIŋ\")"
   ]
  },
  {
   "cell_type": "code",
   "execution_count": 130,
   "metadata": {},
   "outputs": [
    {
     "name": "stdout",
     "output_type": "stream",
     "text": [
      "0->s:s->1\n",
      "1->t:k->1\n",
      "1->r:r->0\n",
      "0->ɔ:ɔ->0\n",
      "0->ŋ:ŋ->0\n",
      "0->'':\n"
     ]
    },
    {
     "data": {
      "text/plain": [
       "'skrɔŋ'"
      ]
     },
     "execution_count": 130,
     "metadata": {},
     "output_type": "execute_result"
    }
   ],
   "source": [
    "transduce(BSC,\"strɔŋ\")"
   ]
  },
  {
   "cell_type": "code",
   "execution_count": 131,
   "metadata": {},
   "outputs": [
    {
     "name": "stdout",
     "output_type": "stream",
     "text": [
      "0->s:s->1\n",
      "1->t:k->1\n",
      "1->r:r->0\n",
      "0->i:i->0\n",
      "0->t:t->0\n",
      "0->'':\n"
     ]
    },
    {
     "data": {
      "text/plain": [
       "'skrit'"
      ]
     },
     "execution_count": 131,
     "metadata": {},
     "output_type": "execute_result"
    }
   ],
   "source": [
    "transduce(BSC,'strit')"
   ]
  },
  {
   "cell_type": "code",
   "execution_count": 132,
   "metadata": {},
   "outputs": [
    {
     "name": "stdout",
     "output_type": "stream",
     "text": [
      "0->s:s->1\n",
      "1->t:k->1\n",
      "1->r:r->0\n",
      "0->ɛ:ɛ->0\n",
      "0->ŋ:ŋ->0\n",
      "0->θ:θ->0\n",
      "0->'':\n"
     ]
    },
    {
     "data": {
      "text/plain": [
       "'skrɛŋθ'"
      ]
     },
     "execution_count": 132,
     "metadata": {},
     "output_type": "execute_result"
    }
   ],
   "source": [
    "transduce(BSC,'strɛŋθ')"
   ]
  },
  {
   "cell_type": "code",
   "execution_count": 133,
   "metadata": {},
   "outputs": [
    {
     "name": "stdout",
     "output_type": "stream",
     "text": [
      "0->s:s->1\n",
      "1->t:k->1\n",
      "1->r:r->0\n",
      "0->e:e->0\n",
      "0->I:I->0\n",
      "0->n:n->0\n",
      "0->'':\n"
     ]
    },
    {
     "data": {
      "text/plain": [
       "'skreIn'"
      ]
     },
     "execution_count": 133,
     "metadata": {},
     "output_type": "execute_result"
    }
   ],
   "source": [
    "transduce(BSC,'streIn')"
   ]
  },
  {
   "cell_type": "code",
   "execution_count": 140,
   "metadata": {},
   "outputs": [
    {
     "name": "stdout",
     "output_type": "stream",
     "text": [
      "0->h:h->0\n",
      "0->ɛ:ɛ->0\n",
      "0->l:->1\n",
      "1->p:p->0\n",
      "0->'':\n"
     ]
    },
    {
     "data": {
      "text/plain": [
       "'hɛp'"
      ]
     },
     "execution_count": 140,
     "metadata": {},
     "output_type": "execute_result"
    }
   ],
   "source": [
    "transduce(DLL,'hɛlp')"
   ]
  },
  {
   "cell_type": "code",
   "execution_count": 136,
   "metadata": {},
   "outputs": [
    {
     "name": "stdout",
     "output_type": "stream",
     "text": [
      "0->r:r->0\n",
      "0->u:u->0\n",
      "0->d:d->0\n",
      "0->ɔ:ɔ->0\n",
      "0->l:->1\n",
      "1->f:f->0\n",
      "0->'':\n"
     ]
    },
    {
     "data": {
      "text/plain": [
       "'rudɔf'"
      ]
     },
     "execution_count": 136,
     "metadata": {},
     "output_type": "execute_result"
    }
   ],
   "source": [
    "transduce(DLL,'rudɔlf')"
   ]
  },
  {
   "cell_type": "code",
   "execution_count": 137,
   "metadata": {},
   "outputs": [
    {
     "name": "stdout",
     "output_type": "stream",
     "text": [
      "0->d:d->0\n",
      "0->ɑ:ɑ->0\n",
      "0->l:->1\n",
      "1->f:f->0\n",
      "0->ə:ə->0\n",
      "0->n:n->0\n",
      "0->'':\n"
     ]
    },
    {
     "data": {
      "text/plain": [
       "'dɑfən'"
      ]
     },
     "execution_count": 137,
     "metadata": {},
     "output_type": "execute_result"
    }
   ],
   "source": [
    "transduce(DLL,'dɑlfən')"
   ]
  },
  {
   "cell_type": "code",
   "execution_count": 146,
   "metadata": {},
   "outputs": [
    {
     "name": "stdout",
     "output_type": "stream",
     "text": [
      "0->f:f->0\n",
      "0->ɜ:ɜ->0\n",
      "0->r:->0\n",
      "0->s:s->0\n",
      "0->t:t->0\n",
      "0->'':\n"
     ]
    },
    {
     "data": {
      "text/plain": [
       "'fɜst'"
      ]
     },
     "execution_count": 146,
     "metadata": {},
     "output_type": "execute_result"
    }
   ],
   "source": [
    "transduce(IRCR,'fɜrst')"
   ]
  },
  {
   "cell_type": "code",
   "execution_count": 142,
   "metadata": {},
   "outputs": [
    {
     "name": "stdout",
     "output_type": "stream",
     "text": [
      "0->θ:θ->0\n",
      "0->r:->0\n",
      "0->o:o->0\n",
      "0->ʊ:ʊ->0\n",
      "0->'':\n"
     ]
    },
    {
     "data": {
      "text/plain": [
       "'θoʊ'"
      ]
     },
     "execution_count": 142,
     "metadata": {},
     "output_type": "execute_result"
    }
   ],
   "source": [
    "transduce(IRCR,'θroʊ')"
   ]
  },
  {
   "cell_type": "code",
   "execution_count": 143,
   "metadata": {},
   "outputs": [
    {
     "name": "stdout",
     "output_type": "stream",
     "text": [
      "0->p:p->0\n",
      "0->r:->0\n",
      "0->ə:ə->0\n",
      "0->f:f->0\n",
      "0->ɛ:ɛ->0\n",
      "0->s:s->0\n",
      "0->ə:ə->0\n",
      "0->r:->0\n",
      "0->'':\n"
     ]
    },
    {
     "data": {
      "text/plain": [
       "'pəfɛsə'"
      ]
     },
     "execution_count": 143,
     "metadata": {},
     "output_type": "execute_result"
    }
   ],
   "source": [
    "transduce(IRCR,'prəfɛsər')"
   ]
  },
  {
   "cell_type": "code",
   "execution_count": 148,
   "metadata": {
    "collapsed": true
   },
   "outputs": [
    {
     "name": "stdout",
     "output_type": "stream",
     "text": [
      "0->b:b->0\n",
      "0->j:r->0\n",
      "0->u:u->0\n",
      "0->t:t->0\n",
      "0->ə:ə->0\n",
      "0->f:f->0\n",
      "0->ə:ə->0\n",
      "0->l:l->0\n",
      "0->'':\n"
     ]
    },
    {
     "data": {
      "text/plain": [
       "'brutəfəl'"
      ]
     },
     "execution_count": 148,
     "metadata": {},
     "output_type": "execute_result"
    }
   ],
   "source": [
    "transduce(IJCR,'bjutəfəl')"
   ]
  },
  {
   "cell_type": "code",
   "execution_count": 158,
   "metadata": {},
   "outputs": [
    {
     "name": "stdout",
     "output_type": "stream",
     "text": [
      "0->k:k->0\n",
      "0->j:r->0\n",
      "0->u:u->0\n",
      "0->t:t->0\n",
      "0->'':\n"
     ]
    },
    {
     "data": {
      "text/plain": [
       "'krut'"
      ]
     },
     "execution_count": 158,
     "metadata": {},
     "output_type": "execute_result"
    }
   ],
   "source": [
    "transduce(IJCR,'kjut')"
   ]
  },
  {
   "cell_type": "code",
   "execution_count": 156,
   "metadata": {},
   "outputs": [
    {
     "name": "stdout",
     "output_type": "stream",
     "text": [
      "0->k:k->0\n",
      "0->ə:ə->0\n",
      "0->m:m->0\n",
      "0->p:p->0\n",
      "0->j:r->0\n",
      "0->u:u->0\n",
      "0->t:t->0\n",
      "0->ə:ə->0\n",
      "0->r:r->0\n",
      "0->'':\n"
     ]
    },
    {
     "data": {
      "text/plain": [
       "'kəmprutər'"
      ]
     },
     "execution_count": 156,
     "metadata": {},
     "output_type": "execute_result"
    }
   ],
   "source": [
    "transduce(IJCR,'kəmpjutər')"
   ]
  },
  {
   "cell_type": "code",
   "execution_count": 155,
   "metadata": {},
   "outputs": [
    {
     "name": "stdout",
     "output_type": "stream",
     "text": [
      "0->m:m->0\n",
      "0->j:r->0\n",
      "0->u:u->0\n",
      "0->z:z->0\n",
      "0->I:I->0\n",
      "0->k:k->0\n",
      "0->'':\n"
     ]
    },
    {
     "data": {
      "text/plain": [
       "'mruzIk'"
      ]
     },
     "execution_count": 155,
     "metadata": {},
     "output_type": "execute_result"
    }
   ],
   "source": [
    "transduce(IJCR,'mjuzIk')"
   ]
  },
  {
   "cell_type": "code",
   "execution_count": 38,
   "metadata": {},
   "outputs": [
    {
     "name": "stdout",
     "output_type": "stream",
     "text": [
      "0->h:h->1\n",
      "1->æ:æ->1\n",
      "1->n:n->2\n",
      "2->d:->3\n",
      "3->s:s->3\n",
      "3->'':\n"
     ]
    },
    {
     "data": {
      "text/plain": [
       "'hæns'"
      ]
     },
     "execution_count": 38,
     "metadata": {},
     "output_type": "execute_result"
    }
   ],
   "source": [
    "transduce(FCCR,'hænds')"
   ]
  },
  {
   "cell_type": "code",
   "execution_count": 40,
   "metadata": {},
   "outputs": [
    {
     "name": "stdout",
     "output_type": "stream",
     "text": [
      "0->h:h->1\n",
      "1->æ:æ->1\n",
      "1->n:n->2\n",
      "2->d:->3\n",
      "3->'':\n"
     ]
    },
    {
     "data": {
      "text/plain": [
       "'hæn'"
      ]
     },
     "execution_count": 40,
     "metadata": {},
     "output_type": "execute_result"
    }
   ],
   "source": [
    "transduce(FCCR,'hænd')"
   ]
  },
  {
   "cell_type": "code",
   "execution_count": 41,
   "metadata": {},
   "outputs": [
    {
     "name": "stdout",
     "output_type": "stream",
     "text": [
      "0->t:t->1\n",
      "1->æ:æ->1\n",
      "1->s:s->2\n",
      "2->k:->3\n",
      "3->'':\n"
     ]
    },
    {
     "data": {
      "text/plain": [
       "'tæs'"
      ]
     },
     "execution_count": 41,
     "metadata": {},
     "output_type": "execute_result"
    }
   ],
   "source": [
    "transduce(FCCR,'tæsk')"
   ]
  },
  {
   "cell_type": "code",
   "execution_count": 42,
   "metadata": {},
   "outputs": [
    {
     "name": "stdout",
     "output_type": "stream",
     "text": [
      "0->t:t->1\n",
      "1->æ:æ->1\n",
      "1->s:s->2\n",
      "2->k:->3\n",
      "3->s:s->3\n",
      "3->'':\n"
     ]
    },
    {
     "data": {
      "text/plain": [
       "'tæss'"
      ]
     },
     "execution_count": 42,
     "metadata": {},
     "output_type": "execute_result"
    }
   ],
   "source": [
    "transduce(FCCR,'tæsks')"
   ]
  },
  {
   "cell_type": "code",
   "execution_count": 43,
   "metadata": {},
   "outputs": [
    {
     "name": "stdout",
     "output_type": "stream",
     "text": [
      "0->t:t->1\n",
      "1->ɛ:ɛ->1\n",
      "1->s:s->2\n",
      "2->t:->3\n",
      "3->'':\n"
     ]
    },
    {
     "data": {
      "text/plain": [
       "'tɛs'"
      ]
     },
     "execution_count": 43,
     "metadata": {},
     "output_type": "execute_result"
    }
   ],
   "source": [
    "transduce(FCCR,'tɛst')"
   ]
  },
  {
   "cell_type": "code",
   "execution_count": 44,
   "metadata": {},
   "outputs": [
    {
     "name": "stdout",
     "output_type": "stream",
     "text": [
      "0->t:t->1\n",
      "1->ɛ:ɛ->1\n",
      "1->s:s->2\n",
      "2->t:->3\n",
      "3->s:s->3\n",
      "3->'':\n"
     ]
    },
    {
     "data": {
      "text/plain": [
       "'tɛss'"
      ]
     },
     "execution_count": 44,
     "metadata": {},
     "output_type": "execute_result"
    }
   ],
   "source": [
    "transduce(FCCR,'tɛsts')"
   ]
  },
  {
   "cell_type": "code",
   "execution_count": 45,
   "metadata": {},
   "outputs": [
    {
     "name": "stdout",
     "output_type": "stream",
     "text": [
      "0->k:k->1\n",
      "1->æ:æ->1\n",
      "1->s:s->2\n",
      "2->k:->3\n",
      "3->'':\n"
     ]
    },
    {
     "data": {
      "text/plain": [
       "'kæs'"
      ]
     },
     "execution_count": 45,
     "metadata": {},
     "output_type": "execute_result"
    }
   ],
   "source": [
    "transduce(FCCR,'kæsk')"
   ]
  },
  {
   "cell_type": "code",
   "execution_count": 46,
   "metadata": {},
   "outputs": [
    {
     "name": "stdout",
     "output_type": "stream",
     "text": [
      "0->k:k->1\n",
      "1->æ:æ->1\n",
      "1->s:s->2\n",
      "2->k:->3\n",
      "3->s:s->3\n",
      "3->'':\n"
     ]
    },
    {
     "data": {
      "text/plain": [
       "'kæss'"
      ]
     },
     "execution_count": 46,
     "metadata": {},
     "output_type": "execute_result"
    }
   ],
   "source": [
    "transduce(FCCR,'kæsks')"
   ]
  },
  {
   "cell_type": "code",
   "execution_count": 47,
   "metadata": {},
   "outputs": [
    {
     "name": "stdout",
     "output_type": "stream",
     "text": [
      "0->k:k->1\n",
      "1->æ:æ->1\n",
      "1->s:s->2\n",
      "2->t:->3\n",
      "3->'':\n"
     ]
    },
    {
     "data": {
      "text/plain": [
       "'kæs'"
      ]
     },
     "execution_count": 47,
     "metadata": {},
     "output_type": "execute_result"
    }
   ],
   "source": [
    "transduce(FCCR,'kæst')"
   ]
  },
  {
   "cell_type": "code",
   "execution_count": 48,
   "metadata": {},
   "outputs": [
    {
     "name": "stdout",
     "output_type": "stream",
     "text": [
      "0->k:k->1\n",
      "1->æ:æ->1\n",
      "1->s:s->2\n",
      "2->t:->3\n",
      "3->s:s->3\n",
      "3->'':\n"
     ]
    },
    {
     "data": {
      "text/plain": [
       "'kæss'"
      ]
     },
     "execution_count": 48,
     "metadata": {},
     "output_type": "execute_result"
    }
   ],
   "source": [
    "transduce(FCCR,'kæsts')"
   ]
  },
  {
   "cell_type": "code",
   "execution_count": 49,
   "metadata": {},
   "outputs": [
    {
     "name": "stdout",
     "output_type": "stream",
     "text": [
      "0->p:p->1\n",
      "1->æ:æ->1\n",
      "1->s:s->2\n",
      "2->t:->3\n",
      "3->'':\n"
     ]
    },
    {
     "data": {
      "text/plain": [
       "'pæs'"
      ]
     },
     "execution_count": 49,
     "metadata": {},
     "output_type": "execute_result"
    }
   ],
   "source": [
    "transduce(FCCR,'pæst')"
   ]
  },
  {
   "cell_type": "code",
   "execution_count": 50,
   "metadata": {},
   "outputs": [
    {
     "name": "stdout",
     "output_type": "stream",
     "text": [
      "0->p:p->1\n",
      "1->æ:æ->1\n",
      "1->s:s->2\n",
      "2->s:->3\n",
      "3->'':\n"
     ]
    },
    {
     "data": {
      "text/plain": [
       "'pæs'"
      ]
     },
     "execution_count": 50,
     "metadata": {},
     "output_type": "execute_result"
    }
   ],
   "source": [
    "transduce(FCCR,'pæss')"
   ]
  },
  {
   "cell_type": "markdown",
   "metadata": {},
   "source": [
    "\n"
   ]
  },
  {
   "cell_type": "markdown",
   "metadata": {},
   "source": [
    "# Implications for Future Research\n",
    "As depicted by how the transducer function parsed 'past and 'pass' in the context of final consonant cluster reduction--ambiguity can and does occur. If this transducer were going from SAE --> AAVE, then it would definitely run in to problems with ambiguity that this transducer function cannot handle currently. An implication for future research on this occurrence would be to utilize a p-subsequential transducer which would allow for multiple potential outputs, being able to handle a finite amount of ambiguity, to be generated in SAE (for this example), that could align with AAVE phonology."
   ]
  },
  {
   "cell_type": "markdown",
   "metadata": {},
   "source": [
    "# Works Cited\n",
    "\n",
    "American Varieties:African American English Ebony Phonics. (n.d.). Retrieved from https://www.pbs.org/speak/seatosea/americanvarieties/AAVE/ebonics/summary/\n",
    "\n",
    "Homework #6 \n",
    "\n",
    "Jurafsky, D., & Martin, J. H. (2007). Speech and language processing: An introduction to natural language processing, computational linguistics, and speech recognition. Upper Saddle River, NJ: Pearson Education.\n",
    "\n",
    "Pollock, Bailey, Berni, Fletcher, Hinton, Johnson, . . . Weaver. (n.d.). Phonological Features of African American Vernacular English (AAVE). Retrieved from http://www.rehabmed.ualberta.ca/spa/phonology/features.htm\n",
    "\n",
    "\n",
    "Rickford, J. R. (1996, December). Ebonics Notes and Discussion. Retrieved from https://web.stanford.edu/~rickford/ebonics/EbonicsExamples.html\n",
    "\n",
    "\n",
    "Rickford, J. R. (n.d.). What is Ebonics (African American English)? Retrieved from https://www.linguisticsociety.org/content/what-ebonics-african-american-english"
   ]
  }
 ],
 "metadata": {
  "kernelspec": {
   "display_name": "Python 3",
   "language": "python",
   "name": "python3"
  },
  "language_info": {
   "codemirror_mode": {
    "name": "ipython",
    "version": 3
   },
   "file_extension": ".py",
   "mimetype": "text/x-python",
   "name": "python",
   "nbconvert_exporter": "python",
   "pygments_lexer": "ipython3",
   "version": "3.7.6"
  }
 },
 "nbformat": 4,
 "nbformat_minor": 2
}
